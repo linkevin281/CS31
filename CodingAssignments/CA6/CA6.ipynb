{
 "cells": [
  {
   "cell_type": "code",
   "execution_count": 3,
   "metadata": {},
   "outputs": [],
   "source": [
    "from GraphClass import graph\n",
    "\n",
    "FILE_PATH = \"CA6 largegraph.txt\""
   ]
  },
  {
   "cell_type": "code",
   "execution_count": 4,
   "metadata": {},
   "outputs": [],
   "source": [
    "def topo_sort(g: graph):\n",
    "    \"\"\"\n",
    "    Returns a reverse topological sort of the graph g, \n",
    "    and two dicts that map vertices to their index in the sort and vice versa.\n",
    "    Args:\n",
    "        g: graph\n",
    "    \"\"\"\n",
    "    def dfs(vertex):\n",
    "        visited.add(vertex)\n",
    "        for neighbor in g.adj_list[vertex]:\n",
    "            if neighbor not in visited:\n",
    "                dfs(neighbor)\n",
    "        index_to_vertex[len(sorted)] = vertex\n",
    "        vertex_to_index[vertex] = len(sorted)\n",
    "        sorted.append(vertex)\n",
    "\n",
    "    index_to_vertex = {}\n",
    "    vertex_to_index = {}\n",
    "    sorted = []\n",
    "    visited = set()\n",
    "    for vertex in g.vertices:\n",
    "        if vertex not in visited:\n",
    "            dfs(vertex)\n",
    "\n",
    "    return sorted, index_to_vertex, vertex_to_index"
   ]
  },
  {
   "cell_type": "code",
   "execution_count": 7,
   "metadata": {},
   "outputs": [],
   "source": [
    "def longpath(file_path):\n",
    "    ## Load Graph\n",
    "    g = graph()\n",
    "    g.Read_Edges(file_path)\n",
    "    \"\"\"\n",
    "    Returns the length of the longest path in the graph g.\n",
    "    Args:\n",
    "        g: graph\n",
    "    \"\"\"\n",
    "    sorted, index_to_vertex, vertex_to_index = topo_sort(g)\n",
    "    dp = [1 for i in range(len(sorted))]\n",
    "\n",
    "    for i in range(len(sorted)):\n",
    "        max_length = 0\n",
    "        for neighbor in g.adj_list[index_to_vertex[i]]:\n",
    "            max_length = max(max_length, dp[vertex_to_index[neighbor]]+1)\n",
    "        dp[i] = max_length\n",
    "    \n",
    "    return max(dp)\n"
   ]
  },
  {
   "cell_type": "code",
   "execution_count": 8,
   "metadata": {},
   "outputs": [
    {
     "name": "stdout",
     "output_type": "stream",
     "text": [
      "6873\n"
     ]
    }
   ],
   "source": [
    "longest = longpath(FILE_PATH)\n",
    "print(longest)"
   ]
  },
  {
   "cell_type": "code",
   "execution_count": null,
   "metadata": {},
   "outputs": [],
   "source": []
  }
 ],
 "metadata": {
  "kernelspec": {
   "display_name": "base",
   "language": "python",
   "name": "python3"
  },
  "language_info": {
   "codemirror_mode": {
    "name": "ipython",
    "version": 3
   },
   "file_extension": ".py",
   "mimetype": "text/x-python",
   "name": "python",
   "nbconvert_exporter": "python",
   "pygments_lexer": "ipython3",
   "version": "3.11.4"
  }
 },
 "nbformat": 4,
 "nbformat_minor": 2
}
